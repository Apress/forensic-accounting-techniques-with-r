{
  "cells": [
    {
      "metadata": {
        "trusted": true
      },
      "cell_type": "code",
      "source": "options(repr.plot.width=6, repr.plot.height=4)",
      "execution_count": null,
      "outputs": []
    },
    {
      "metadata": {
        "trusted": true
      },
      "cell_type": "code",
      "source": "if (!require(tidyverse)) {\n    install.packages(\"tidyverse\")\n    library(tidyverse)\n}\n\nif (!require(data.table)) {\n    install.packages(\"data.table\")\n    library(data.table)\n}",
      "execution_count": null,
      "outputs": []
    },
    {
      "metadata": {
        "trusted": true
      },
      "cell_type": "code",
      "source": "expenseData <- readr::read_csv(\"ExpenseReports.csv\")",
      "execution_count": null,
      "outputs": []
    },
    {
      "metadata": {
        "trusted": true
      },
      "cell_type": "code",
      "source": "head(expenseData)",
      "execution_count": null,
      "outputs": []
    },
    {
      "metadata": {
        "trusted": true
      },
      "cell_type": "code",
      "source": "expenseData$Date <- as.Date(expenseData$Date, \"%m/%d/%Y\")\nexpenseData$Year <- as.integer(lubridate::year(expenseData$Date))",
      "execution_count": null,
      "outputs": []
    },
    {
      "metadata": {
        "trusted": true
      },
      "cell_type": "code",
      "source": "tail(expenseData, 10)",
      "execution_count": null,
      "outputs": []
    },
    {
      "metadata": {
        "trusted": true
      },
      "cell_type": "code",
      "source": "nrow(expenseData)",
      "execution_count": null,
      "outputs": []
    },
    {
      "metadata": {
        "trusted": true
      },
      "cell_type": "code",
      "source": "str(expenseData)",
      "execution_count": null,
      "outputs": []
    },
    {
      "metadata": {
        "trusted": true
      },
      "cell_type": "code",
      "source": "glimpse(expenseData)",
      "execution_count": null,
      "outputs": []
    },
    {
      "metadata": {
        "trusted": true
      },
      "cell_type": "code",
      "source": "summary(expenseData)",
      "execution_count": null,
      "outputs": []
    },
    {
      "metadata": {
        "trusted": true
      },
      "cell_type": "code",
      "source": "aggregates <- expenseData %>%\n    group_by(Year) %>%\n    summarize(n = n(), total = sum(Amount), meanAmt = mean(Amount), medianAmt = median(Amount))",
      "execution_count": null,
      "outputs": []
    },
    {
      "metadata": {
        "trusted": true
      },
      "cell_type": "code",
      "source": "ggplot(data = aggregates, aes(x = Year, y = meanAmt)) +\n    geom_line() +\n    scale_x_continuous(breaks = (2011:2019)) +\n    theme_minimal()",
      "execution_count": null,
      "outputs": []
    },
    {
      "metadata": {
        "trusted": true
      },
      "cell_type": "code",
      "source": "ggplot(data = aggregates, aes(x = Year, y = medianAmt)) +\n    geom_line() +\n    scale_x_continuous(breaks = (2011:2019)) +\n    theme_minimal()",
      "execution_count": null,
      "outputs": []
    },
    {
      "metadata": {
        "trusted": true
      },
      "cell_type": "code",
      "source": "cityTypeAggregates <- expenseData %>%\n    group_by(Year, CityType) %>%\n    summarize(n = n(), total = sum(Amount), meanAmt = mean(Amount), medianAmt = median(Amount))",
      "execution_count": null,
      "outputs": []
    },
    {
      "metadata": {
        "trusted": true
      },
      "cell_type": "code",
      "source": "ggplot(data = cityTypeAggregates, aes(x = Year, y = medianAmt, color = CityType)) +\n    geom_line() +\n    scale_x_continuous(breaks = (2011:2019)) +\n    scale_color_brewer(type = \"qual\", palette = \"Dark2\") +\n    theme_minimal()",
      "execution_count": null,
      "outputs": []
    },
    {
      "metadata": {
        "trusted": true
      },
      "cell_type": "code",
      "source": "reg <- lm(formula = Amount ~ EmployeeName, data = expenseData)",
      "execution_count": null,
      "outputs": []
    },
    {
      "metadata": {
        "trusted": true
      },
      "cell_type": "code",
      "source": "summary(reg)",
      "execution_count": null,
      "outputs": []
    },
    {
      "metadata": {
        "trusted": true
      },
      "cell_type": "code",
      "source": "reg <- lm(formula = Amount ~ CityType + Year, data = expenseData)",
      "execution_count": null,
      "outputs": []
    },
    {
      "metadata": {
        "trusted": true
      },
      "cell_type": "code",
      "source": "summary(reg)",
      "execution_count": null,
      "outputs": []
    },
    {
      "metadata": {
        "trusted": true
      },
      "cell_type": "code",
      "source": "reg <- lm(formula = Amount ~ CityType + EmployeeName + Year, data = expenseData)\nsummary(reg)",
      "execution_count": null,
      "outputs": []
    },
    {
      "metadata": {
        "trusted": true
      },
      "cell_type": "code",
      "source": "unique(expenseData$CityType)",
      "execution_count": null,
      "outputs": []
    },
    {
      "metadata": {
        "trusted": true
      },
      "cell_type": "code",
      "source": "length(unique(expenseData$CityType))",
      "execution_count": null,
      "outputs": []
    },
    {
      "metadata": {
        "trusted": true
      },
      "cell_type": "code",
      "source": "rapply(expenseData, function(x) { length(unique(x)) })",
      "execution_count": null,
      "outputs": []
    },
    {
      "metadata": {
        "trusted": true
      },
      "cell_type": "code",
      "source": "data.table::setDT(expenseData)[, .N, keyby=EmployeeName] %>% arrange(desc(N))",
      "execution_count": null,
      "outputs": []
    },
    {
      "metadata": {
        "trusted": true
      },
      "cell_type": "code",
      "source": "data.table::setDT(expenseData)[, .N, keyby=CityType]",
      "execution_count": null,
      "outputs": []
    },
    {
      "metadata": {
        "trusted": true
      },
      "cell_type": "code",
      "source": "data.table::dcast(expenseData, EmployeeName ~ CityType, fun.aggregate = length, value.var = \"Year\")",
      "execution_count": null,
      "outputs": []
    },
    {
      "metadata": {
        "trusted": true
      },
      "cell_type": "code",
      "source": "data.table::dcast(expenseData, EmployeeName ~ CityType, fun.aggregate = sum, value.var = \"Amount\")",
      "execution_count": null,
      "outputs": []
    },
    {
      "metadata": {
        "trusted": true
      },
      "cell_type": "code",
      "source": "data.table::setDT(expenseData)[, .N, keyby=Amount] %>% arrange(desc(N)) %>% head(20)",
      "execution_count": null,
      "outputs": []
    },
    {
      "metadata": {
        "trusted": true
      },
      "cell_type": "code",
      "source": "data.table::setDT(expenseData)[, .N, keyby=as.integer(Amount)] %>% arrange(desc(N)) %>% head(10)",
      "execution_count": null,
      "outputs": []
    },
    {
      "metadata": {
        "trusted": true
      },
      "cell_type": "code",
      "source": "ggplot(data = expenseData, aes(x = Date, y = Amount, color = CityType)) +\n    geom_point(aes(alpha = 0.1)) +\n    scale_color_brewer(type = \"qual\", palette = \"Dark2\") +\n    theme_minimal()",
      "execution_count": null,
      "outputs": []
    },
    {
      "metadata": {
        "trusted": true
      },
      "cell_type": "code",
      "source": "inexpensiveCities <- dplyr::filter(expenseData, CityType == \"Inexpensive City\")\nmoderatelyExpensiveCities <- dplyr::filter(expenseData, CityType == \"Moderately Expensive City\")\nexpensiveCities <- dplyr::filter(expenseData, CityType == \"Expensive City\")",
      "execution_count": null,
      "outputs": []
    },
    {
      "metadata": {
        "trusted": true
      },
      "cell_type": "code",
      "source": "ggplot(data = inexpensiveCities, aes(x = factor(Year), y = Amount)) +\n    geom_boxplot() +\n    theme_minimal()",
      "execution_count": null,
      "outputs": []
    },
    {
      "metadata": {
        "trusted": true
      },
      "cell_type": "code",
      "source": "ggplot(data = moderatelyExpensiveCities, aes(x = factor(Year), y = Amount)) +\n    geom_boxplot() +\n    theme_minimal()",
      "execution_count": null,
      "outputs": []
    },
    {
      "metadata": {
        "trusted": true
      },
      "cell_type": "code",
      "source": "ggplot(data = expensiveCities, aes(x = factor(Year), y = Amount)) +\n    geom_boxplot() +\n    theme_minimal()",
      "execution_count": null,
      "outputs": []
    },
    {
      "metadata": {
        "trusted": true
      },
      "cell_type": "code",
      "source": "ggplot(data = expensiveCities, aes(x = Amount)) +\n    geom_histogram(binwidth = 3) +\n    theme_minimal()",
      "execution_count": null,
      "outputs": []
    },
    {
      "metadata": {
        "trusted": true
      },
      "cell_type": "code",
      "source": "ggplot(data = moderatelyExpensiveCities, aes(x = Amount)) +\n    geom_histogram(binwidth = 2) +\n    theme_minimal()",
      "execution_count": null,
      "outputs": []
    },
    {
      "metadata": {
        "trusted": true
      },
      "cell_type": "code",
      "source": "ggplot(data = inexpensiveCities, aes(x = Amount)) +\n    geom_histogram(binwidth = 1) +\n    theme_minimal()",
      "execution_count": null,
      "outputs": []
    },
    {
      "metadata": {
        "trusted": true
      },
      "cell_type": "code",
      "source": "ggplot(data = inexpensiveCities, aes(x = Amount)) +\n    geom_histogram(binwidth = 1) +\n    facet_wrap(facets = ~factor(Year), ncol = 3) +\n    theme_minimal()",
      "execution_count": null,
      "outputs": []
    },
    {
      "metadata": {
        "trusted": true
      },
      "cell_type": "code",
      "source": "ggplot(data = dplyr::filter(inexpensiveCities, EmployeeName == \"Sophia Aubrey\"), aes(x = Amount)) +\n    geom_histogram(binwidth = 1) +\n    facet_wrap(facets = ~Year, ncol = 3) +\n    theme_minimal()",
      "execution_count": null,
      "outputs": []
    },
    {
      "metadata": {
        "trusted": true
      },
      "cell_type": "code",
      "source": "expenseData$AmountInt <- as.integer(expenseData$Amount)",
      "execution_count": null,
      "outputs": []
    },
    {
      "metadata": {
        "trusted": true
      },
      "cell_type": "code",
      "source": "expenseData$TrailingZeroes <- nchar(expenseData$AmountInt) - nchar(sub(\"0*$\", \"\", expenseData$AmountInt))",
      "execution_count": null,
      "outputs": []
    },
    {
      "metadata": {
        "trusted": true
      },
      "cell_type": "code",
      "source": "expenseData %>%\ngroup_by(TrailingZeroes) %>%\nsummarize(n = n())",
      "execution_count": null,
      "outputs": []
    },
    {
      "metadata": {
        "trusted": true
      },
      "cell_type": "code",
      "source": "expenseData %>%\n    group_by(AmountInt %% 10) %>%\n    summarize(n = n())",
      "execution_count": null,
      "outputs": []
    },
    {
      "metadata": {
        "trusted": true
      },
      "cell_type": "code",
      "source": "expenseData %>%\n    filter(AmountInt != 39) %>%\n    group_by(AmountInt %% 10) %>%\n    summarize(n = n())",
      "execution_count": null,
      "outputs": []
    },
    {
      "metadata": {
        "trusted": true
      },
      "cell_type": "code",
      "source": "expenseData %>%\n    filter(AmountInt >= 30 & AmountInt < 39) %>%\n    group_by(AmountInt %% 10) %>%\n    summarize(n = n())",
      "execution_count": null,
      "outputs": []
    },
    {
      "metadata": {
        "trusted": true
      },
      "cell_type": "code",
      "source": "if (!require(benford.analysis)) {\n    install.packages(\"benford.analysis\", repos = \"http://cran.us.r-project.org\")\n    library(benford.analysis)\n}",
      "execution_count": null,
      "outputs": []
    },
    {
      "metadata": {
        "trusted": true
      },
      "cell_type": "code",
      "source": "cp <- benford(data = expenseData$Amount, number.of.digits = 1, sign = \"positive\", discrete = TRUE, round = 3)",
      "execution_count": null,
      "outputs": []
    },
    {
      "metadata": {
        "trusted": true
      },
      "cell_type": "code",
      "source": "plot(cp, except=c(\"second order\", \"summation\", \"mantissa\", \"chi square\", \"abs diff\", \"ex summation\"))",
      "execution_count": null,
      "outputs": []
    },
    {
      "metadata": {
        "trusted": true
      },
      "cell_type": "code",
      "source": "mungedInts <- dplyr::case_when(expenseData$AmountInt == 39 ~ 19, TRUE ~ expenseData$Amount)\ncp2 <- benford(data = mungedInts, number.of.digits = 1, sign = \"positive\", discrete = TRUE, round = 3)\nplot(cp2, except = c(\"second order\", \"summation\", \"mantissa\", \"chi square\", \"abs diff\", \"ex summation\"))",
      "execution_count": null,
      "outputs": []
    },
    {
      "metadata": {
        "trusted": true
      },
      "cell_type": "code",
      "source": "plot(benford(data = filter(expenseData, Date < \"2017-01-01\")$Amount, number.of.digits = 1, discrete = TRUE),\n    except=c(\"second order\", \"summation\", \"mantissa\", \"chi square\", \"abs diff\", \"ex summation\"))",
      "execution_count": null,
      "outputs": []
    },
    {
      "metadata": {
        "trusted": true
      },
      "cell_type": "code",
      "source": "plot(benford(data = filter(expenseData, Date >= \"2017-01-01\")$Amount, number.of.digits = 1, discrete = TRUE),\n    except=c(\"second order\", \"summation\", \"mantissa\", \"chi square\", \"abs diff\", \"ex summation\"))",
      "execution_count": null,
      "outputs": []
    },
    {
      "metadata": {
        "trusted": true
      },
      "cell_type": "code",
      "source": "",
      "execution_count": null,
      "outputs": []
    },
    {
      "metadata": {
        "trusted": true
      },
      "cell_type": "code",
      "source": "",
      "execution_count": null,
      "outputs": []
    },
    {
      "metadata": {
        "trusted": true
      },
      "cell_type": "code",
      "source": "",
      "execution_count": null,
      "outputs": []
    },
    {
      "metadata": {
        "trusted": true
      },
      "cell_type": "code",
      "source": "",
      "execution_count": null,
      "outputs": []
    },
    {
      "metadata": {
        "trusted": true
      },
      "cell_type": "code",
      "source": "",
      "execution_count": null,
      "outputs": []
    }
  ],
  "metadata": {
    "kernelspec": {
      "name": "r",
      "display_name": "R",
      "language": "R"
    },
    "language_info": {
      "mimetype": "text/x-r-source",
      "name": "R",
      "pygments_lexer": "r",
      "version": "3.5.3",
      "file_extension": ".r",
      "codemirror_mode": "r"
    }
  },
  "nbformat": 4,
  "nbformat_minor": 2
}